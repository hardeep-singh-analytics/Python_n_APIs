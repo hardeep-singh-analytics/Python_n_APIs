{
 "cells": [
  {
   "cell_type": "markdown",
   "id": "3d5d968b-b302-46b9-8838-2ed5046fc9f2",
   "metadata": {},
   "source": [
    "### Parsing installation analytics of all the libraries and packages offered by the website."
   ]
  },
  {
   "cell_type": "code",
   "execution_count": 2,
   "id": "d735df20-3c96-4baa-863c-04785c917533",
   "metadata": {},
   "outputs": [],
   "source": [
    "#Importing necessary packages"
   ]
  },
  {
   "cell_type": "code",
   "execution_count": 3,
   "id": "c891ccb3-62c3-4ea8-8e5f-5bcac10c8f03",
   "metadata": {},
   "outputs": [],
   "source": [
    "import requests\n",
    "import json\n",
    "import time"
   ]
  },
  {
   "cell_type": "code",
   "execution_count": 4,
   "id": "1e382e4b-74c2-4226-93bc-32e4d0989ba6",
   "metadata": {},
   "outputs": [],
   "source": [
    "# Creating a response object"
   ]
  },
  {
   "cell_type": "code",
   "execution_count": 5,
   "id": "1acaf950-6d5b-4a75-8d07-09d58ea00884",
   "metadata": {},
   "outputs": [],
   "source": [
    "r = requests.get('https://formulae.brew.sh/api/formula.json')"
   ]
  },
  {
   "cell_type": "code",
   "execution_count": 6,
   "id": "34d3860b-c0a9-41ea-a5c4-0dac13111c2a",
   "metadata": {},
   "outputs": [],
   "source": [
    "# Structering the response object into json format."
   ]
  },
  {
   "cell_type": "code",
   "execution_count": 7,
   "id": "2b5a64fa-a10d-4979-8af3-8c41f2b20a93",
   "metadata": {},
   "outputs": [],
   "source": [
    "packages_json = r.json()"
   ]
  },
  {
   "cell_type": "code",
   "execution_count": 9,
   "id": "23e8a077-e89a-474a-b506-64cadba06816",
   "metadata": {},
   "outputs": [],
   "source": [
    "# Inspecting the first element consisting details of first package in the list thus created.\n",
    "# After inspection, it has been found that installation analytics are not available in this output, however we\n",
    "# get package name that we could use to create a api link for that package that contains analytics."
   ]
  },
  {
   "cell_type": "code",
   "execution_count": 4,
   "id": "30695f8a-7f5d-4b79-906b-bf9b4dd4879f",
   "metadata": {},
   "outputs": [
    {
     "name": "stdout",
     "output_type": "stream",
     "text": [
      "{'name': 'a2ps', 'full_name': 'a2ps', 'tap': 'homebrew/core', 'oldname': None, 'aliases': [], 'versioned_formulae': [], 'desc': 'Any-to-PostScript filter', 'license': 'GPL-3.0-or-later', 'homepage': 'https://www.gnu.org/software/a2ps/', 'versions': {'stable': '4.14', 'head': None, 'bottle': True}, 'urls': {'stable': {'url': 'https://ftp.gnu.org/gnu/a2ps/a2ps-4.14.tar.gz', 'tag': None, 'revision': None}}, 'revision': 0, 'version_scheme': 0, 'bottle': {'stable': {'rebuild': 4, 'root_url': 'https://ghcr.io/v2/homebrew/core', 'files': {'arm64_monterey': {'cellar': '/opt/homebrew/Cellar', 'url': 'https://ghcr.io/v2/homebrew/core/a2ps/blobs/sha256:b92375f7cc49a7440b431d2248cad0d97c96fcca127dace6efdeb0b2f3faa08c', 'sha256': 'b92375f7cc49a7440b431d2248cad0d97c96fcca127dace6efdeb0b2f3faa08c'}, 'arm64_big_sur': {'cellar': '/opt/homebrew/Cellar', 'url': 'https://ghcr.io/v2/homebrew/core/a2ps/blobs/sha256:8ac02041dbec3966b6a695dfc4215b90b9e331ae6eb8c6698cbbfa0175154c9f', 'sha256': '8ac02041dbec3966b6a695dfc4215b90b9e331ae6eb8c6698cbbfa0175154c9f'}, 'monterey': {'cellar': '/usr/local/Cellar', 'url': 'https://ghcr.io/v2/homebrew/core/a2ps/blobs/sha256:c0347849efe7486dfa2c5cfd35fae4c87e194fdcd9a10c6ce8758c99e8cf144c', 'sha256': 'c0347849efe7486dfa2c5cfd35fae4c87e194fdcd9a10c6ce8758c99e8cf144c'}, 'big_sur': {'cellar': '/usr/local/Cellar', 'url': 'https://ghcr.io/v2/homebrew/core/a2ps/blobs/sha256:e87da2b47386fc7e3c6f20b3ff90c4bbe37b9e0aaa884440ffa216492dbc150b', 'sha256': 'e87da2b47386fc7e3c6f20b3ff90c4bbe37b9e0aaa884440ffa216492dbc150b'}, 'catalina': {'cellar': '/usr/local/Cellar', 'url': 'https://ghcr.io/v2/homebrew/core/a2ps/blobs/sha256:82e64b2008971430d160a3f564e32593e98fb55c43d7748c7deb9d6f546e1102', 'sha256': '82e64b2008971430d160a3f564e32593e98fb55c43d7748c7deb9d6f546e1102'}, 'mojave': {'cellar': '/usr/local/Cellar', 'url': 'https://ghcr.io/v2/homebrew/core/a2ps/blobs/sha256:8ca49b4797277f79e87e48ab4c6794601b64d1dde35b9eac556d4153b8237a51', 'sha256': '8ca49b4797277f79e87e48ab4c6794601b64d1dde35b9eac556d4153b8237a51'}, 'x86_64_linux': {'cellar': '/home/linuxbrew/.linuxbrew/Cellar', 'url': 'https://ghcr.io/v2/homebrew/core/a2ps/blobs/sha256:063b4b31a62c4d5bd905bc4faab09ac2a50c77291de52ab216fc6a7a56f8e406', 'sha256': '063b4b31a62c4d5bd905bc4faab09ac2a50c77291de52ab216fc6a7a56f8e406'}}}}, 'keg_only': False, 'keg_only_reason': None, 'options': [], 'build_dependencies': [], 'dependencies': [], 'recommended_dependencies': [], 'optional_dependencies': [], 'uses_from_macos': ['gperf'], 'requirements': [], 'conflicts_with': [], 'caveats': None, 'installed': [], 'linked_keg': None, 'pinned': False, 'outdated': False, 'deprecated': False, 'deprecation_date': None, 'deprecation_reason': None, 'disabled': False, 'disable_date': None, 'disable_reason': None}\n"
     ]
    }
   ],
   "source": [
    "print(packages_json[0])"
   ]
  },
  {
   "cell_type": "code",
   "execution_count": 10,
   "id": "3554f2a0-97c7-49b0-ba72-006a226c92d9",
   "metadata": {},
   "outputs": [],
   "source": [
    "# https://formulae.brew.sh/api/formula/{package name}.json is the structure of individual package api."
   ]
  },
  {
   "cell_type": "markdown",
   "id": "6a14f267-ff79-4ec1-9e6b-3657a3d2ce88",
   "metadata": {},
   "source": [
    "### Parsing the package name, 30d, 90d and 365d installation analytics along with time taken to extract the details. Aso calculating total time taken to parse all the details."
   ]
  },
  {
   "cell_type": "code",
   "execution_count": 11,
   "id": "86be80c2-824a-4799-ad72-b99f90b41283",
   "metadata": {},
   "outputs": [],
   "source": [
    "# Response object of all the package that contains package name which will be used to create individual package api\n",
    "r = requests.get('https://formulae.brew.sh/api/formula.json')\n",
    "\n",
    "# Converting response object into json format.\n",
    "packages_json = r.json()\n",
    "\n",
    "# Creating a blank list that will contain anlytics that will be parsed from apis.\n",
    "package_analytics = []\n",
    "\n",
    "# Setting a initial counter.\n",
    "t1 = time.perf_counter()\n",
    "\n",
    "# looping through all package api for package name and description and later using package name to create and parse\n",
    "# installation analytics from individual package apis.\n",
    "for package in packages_json:\n",
    "    \n",
    "    # Parsing package name from the all package api\n",
    "    package_name = package['name']\n",
    "    \n",
    "    # Parsing package description from the all package api\n",
    "    package_desc = package['desc']\n",
    "    \n",
    "    # Creating response object for individual package api using package name thus parsed and individual api structure\n",
    "    r = requests.get(f'https://formulae.brew.sh/api/formula/{package_name}.json')\n",
    "    \n",
    "    # Converting response onject into json format\n",
    "    package_json = r.json()\n",
    "    \n",
    "    # Parsing 30d, 90d and 365d installation analytics from individual json object thus created\n",
    "    installs_30d = package_json['analytics']['install_on_request']['30d'][package_name]\n",
    "    installs_90d = package_json['analytics']['install_on_request']['90d'][package_name]\n",
    "    installs_365d = package_json['analytics']['install_on_request']['365d'][package_name]\n",
    "    \n",
    "    # Inserting details thus parsed so far into a dictionary variable.\n",
    "    data = {\n",
    "            'name':package_name,\n",
    "            'desc':package_desc,\n",
    "            'installs_30d':installs_30d,\n",
    "            'installs_90d':installs_90d,\n",
    "            'installs_365d':installs_365d,\n",
    "            'time_elapsed':r.elapsed.total_seconds()\n",
    "    }\n",
    "    \n",
    "    # Appending dictionary object thus created to the package_analytics list.\n",
    "    package_analytics.append(data)\n",
    "    \n",
    "    # Pausing the next request until the previous request is fulfilled to go easy on the host server.\n",
    "    time.sleep(r.elapsed.total_seconds())\n",
    "\n",
    "# Closing counter\n",
    "t2 = time.perf_counter()\n",
    "\n",
    "# Creating a variable that stores total time taken to complete the parsing\n",
    "total_time_taken = t2 - t1\n",
    "\n",
    "\n",
    "# Exporting the package_analytics list thus created to json file for data analysis.\n",
    "with open('package_analytics_info2.json', 'w') as f:\n",
    "    json.dump(package_analytics, f, indent = 2)\n"
   ]
  },
  {
   "cell_type": "code",
   "execution_count": 18,
   "id": "f0bbd20e-e45f-418f-9805-50e2edf7369f",
   "metadata": {},
   "outputs": [],
   "source": [
    "# Importing package_analytics_info2 json file thus created into pandas DataFrame."
   ]
  },
  {
   "cell_type": "code",
   "execution_count": 17,
   "id": "ce14e99c-3f85-44f4-818e-141805ef8035",
   "metadata": {},
   "outputs": [
    {
     "data": {
      "text/html": [
       "<div>\n",
       "<style scoped>\n",
       "    .dataframe tbody tr th:only-of-type {\n",
       "        vertical-align: middle;\n",
       "    }\n",
       "\n",
       "    .dataframe tbody tr th {\n",
       "        vertical-align: top;\n",
       "    }\n",
       "\n",
       "    .dataframe thead th {\n",
       "        text-align: right;\n",
       "    }\n",
       "</style>\n",
       "<table border=\"1\" class=\"dataframe\">\n",
       "  <thead>\n",
       "    <tr style=\"text-align: right;\">\n",
       "      <th></th>\n",
       "      <th>name</th>\n",
       "      <th>desc</th>\n",
       "      <th>installs_30d</th>\n",
       "      <th>installs_90d</th>\n",
       "      <th>installs_365d</th>\n",
       "      <th>time_elapsed</th>\n",
       "    </tr>\n",
       "  </thead>\n",
       "  <tbody>\n",
       "    <tr>\n",
       "      <th>0</th>\n",
       "      <td>a2ps</td>\n",
       "      <td>Any-to-PostScript filter</td>\n",
       "      <td>104</td>\n",
       "      <td>320</td>\n",
       "      <td>1297</td>\n",
       "      <td>0.549748</td>\n",
       "    </tr>\n",
       "    <tr>\n",
       "      <th>1</th>\n",
       "      <td>a52dec</td>\n",
       "      <td>Library for decoding ATSC A/52 streams (AKA 'A...</td>\n",
       "      <td>26</td>\n",
       "      <td>101</td>\n",
       "      <td>347</td>\n",
       "      <td>0.196711</td>\n",
       "    </tr>\n",
       "    <tr>\n",
       "      <th>2</th>\n",
       "      <td>aacgain</td>\n",
       "      <td>AAC-supporting version of mp3gain</td>\n",
       "      <td>66</td>\n",
       "      <td>175</td>\n",
       "      <td>679</td>\n",
       "      <td>0.453033</td>\n",
       "    </tr>\n",
       "    <tr>\n",
       "      <th>3</th>\n",
       "      <td>aalib</td>\n",
       "      <td>Portable ASCII art graphics library</td>\n",
       "      <td>73</td>\n",
       "      <td>251</td>\n",
       "      <td>1309</td>\n",
       "      <td>0.435397</td>\n",
       "    </tr>\n",
       "    <tr>\n",
       "      <th>4</th>\n",
       "      <td>aamath</td>\n",
       "      <td>Renders mathematical expressions as ASCII art</td>\n",
       "      <td>9</td>\n",
       "      <td>39</td>\n",
       "      <td>266</td>\n",
       "      <td>0.207256</td>\n",
       "    </tr>\n",
       "    <tr>\n",
       "      <th>...</th>\n",
       "      <td>...</td>\n",
       "      <td>...</td>\n",
       "      <td>...</td>\n",
       "      <td>...</td>\n",
       "      <td>...</td>\n",
       "      <td>...</td>\n",
       "    </tr>\n",
       "    <tr>\n",
       "      <th>6096</th>\n",
       "      <td>zxcc</td>\n",
       "      <td>CP/M 2/3 emulator for cross-compiling and CP/M...</td>\n",
       "      <td>5</td>\n",
       "      <td>10</td>\n",
       "      <td>34</td>\n",
       "      <td>0.198755</td>\n",
       "    </tr>\n",
       "    <tr>\n",
       "      <th>6097</th>\n",
       "      <td>zydis</td>\n",
       "      <td>Fast and lightweight x86/x86_64 disassembler l...</td>\n",
       "      <td>2</td>\n",
       "      <td>4</td>\n",
       "      <td>40</td>\n",
       "      <td>0.248255</td>\n",
       "    </tr>\n",
       "    <tr>\n",
       "      <th>6098</th>\n",
       "      <td>zyre</td>\n",
       "      <td>Local Area Clustering for Peer-to-Peer Applica...</td>\n",
       "      <td>3</td>\n",
       "      <td>11</td>\n",
       "      <td>40</td>\n",
       "      <td>0.250874</td>\n",
       "    </tr>\n",
       "    <tr>\n",
       "      <th>6099</th>\n",
       "      <td>zzuf</td>\n",
       "      <td>Transparent application input fuzzer</td>\n",
       "      <td>8</td>\n",
       "      <td>18</td>\n",
       "      <td>60</td>\n",
       "      <td>0.201226</td>\n",
       "    </tr>\n",
       "    <tr>\n",
       "      <th>6100</th>\n",
       "      <td>zzz</td>\n",
       "      <td>Command-line tool to put Macs to sleep</td>\n",
       "      <td>24</td>\n",
       "      <td>86</td>\n",
       "      <td>343</td>\n",
       "      <td>0.365897</td>\n",
       "    </tr>\n",
       "  </tbody>\n",
       "</table>\n",
       "<p>6101 rows × 6 columns</p>\n",
       "</div>"
      ],
      "text/plain": [
       "         name                                               desc  \\\n",
       "0        a2ps                           Any-to-PostScript filter   \n",
       "1      a52dec  Library for decoding ATSC A/52 streams (AKA 'A...   \n",
       "2     aacgain                  AAC-supporting version of mp3gain   \n",
       "3       aalib                Portable ASCII art graphics library   \n",
       "4      aamath      Renders mathematical expressions as ASCII art   \n",
       "...       ...                                                ...   \n",
       "6096     zxcc  CP/M 2/3 emulator for cross-compiling and CP/M...   \n",
       "6097    zydis  Fast and lightweight x86/x86_64 disassembler l...   \n",
       "6098     zyre  Local Area Clustering for Peer-to-Peer Applica...   \n",
       "6099     zzuf               Transparent application input fuzzer   \n",
       "6100      zzz             Command-line tool to put Macs to sleep   \n",
       "\n",
       "      installs_30d  installs_90d  installs_365d  time_elapsed  \n",
       "0              104           320           1297      0.549748  \n",
       "1               26           101            347      0.196711  \n",
       "2               66           175            679      0.453033  \n",
       "3               73           251           1309      0.435397  \n",
       "4                9            39            266      0.207256  \n",
       "...            ...           ...            ...           ...  \n",
       "6096             5            10             34      0.198755  \n",
       "6097             2             4             40      0.248255  \n",
       "6098             3            11             40      0.250874  \n",
       "6099             8            18             60      0.201226  \n",
       "6100            24            86            343      0.365897  \n",
       "\n",
       "[6101 rows x 6 columns]"
      ]
     },
     "execution_count": 17,
     "metadata": {},
     "output_type": "execute_result"
    }
   ],
   "source": [
    "import pandas as pd\n",
    "pd.read_json('package_analytics_info2.json')"
   ]
  },
  {
   "cell_type": "code",
   "execution_count": 19,
   "id": "8737ddef-80a4-4e40-89fa-119a910f8416",
   "metadata": {},
   "outputs": [],
   "source": [
    "# Number of package analytics parsed from the api."
   ]
  },
  {
   "cell_type": "code",
   "execution_count": 12,
   "id": "7e438d13-c542-4cbc-ba29-96bedebef528",
   "metadata": {},
   "outputs": [
    {
     "data": {
      "text/plain": [
       "6101"
      ]
     },
     "execution_count": 12,
     "metadata": {},
     "output_type": "execute_result"
    }
   ],
   "source": [
    "len(packages_json)"
   ]
  },
  {
   "cell_type": "code",
   "execution_count": 20,
   "id": "2309d47e-4c20-4f80-9b1b-57b4e6927d6e",
   "metadata": {},
   "outputs": [],
   "source": [
    "# Converting total time taken to int datatype."
   ]
  },
  {
   "cell_type": "code",
   "execution_count": 14,
   "id": "3ac9dfb0-45c7-4812-a31b-22788e9104f7",
   "metadata": {},
   "outputs": [],
   "source": [
    "total_time_taken = int(total_time_taken)"
   ]
  },
  {
   "cell_type": "code",
   "execution_count": 21,
   "id": "3317b758-f089-4441-9bcc-1985cf8bec07",
   "metadata": {},
   "outputs": [],
   "source": [
    "# Total time taken for parsing in seconds."
   ]
  },
  {
   "cell_type": "code",
   "execution_count": 15,
   "id": "f5557455-8a75-4c1c-809d-23d4302e1d47",
   "metadata": {},
   "outputs": [
    {
     "data": {
      "text/plain": [
       "2572"
      ]
     },
     "execution_count": 15,
     "metadata": {},
     "output_type": "execute_result"
    }
   ],
   "source": [
    "total_time_taken"
   ]
  },
  {
   "cell_type": "code",
   "execution_count": 22,
   "id": "b7c8f193-ef10-431b-968e-2cb7eeafd74d",
   "metadata": {},
   "outputs": [],
   "source": [
    "# Using divmod function to convert total time taken in seconds into hours, minutes and seconds."
   ]
  },
  {
   "cell_type": "code",
   "execution_count": 23,
   "id": "6e083c22-6452-4614-9ae2-a7b16428aba4",
   "metadata": {},
   "outputs": [
    {
     "name": "stdout",
     "output_type": "stream",
     "text": [
      "Package Analytics Extracted in 0:42:52\n"
     ]
    }
   ],
   "source": [
    "minutes, seconds = divmod(total_time_taken, 60)\n",
    "hours, minutes = divmod(minutes, 60)\n",
    "\n",
    "print(f'Package Analytics Extracted in {hours}:{minutes}:{seconds}')"
   ]
  },
  {
   "cell_type": "code",
   "execution_count": null,
   "id": "42988bdf-a0bb-4561-b8e5-32c94e46e50a",
   "metadata": {},
   "outputs": [],
   "source": []
  }
 ],
 "metadata": {
  "kernelspec": {
   "display_name": "Python 3 (ipykernel)",
   "language": "python",
   "name": "python3"
  },
  "language_info": {
   "codemirror_mode": {
    "name": "ipython",
    "version": 3
   },
   "file_extension": ".py",
   "mimetype": "text/x-python",
   "name": "python",
   "nbconvert_exporter": "python",
   "pygments_lexer": "ipython3",
   "version": "3.9.7"
  }
 },
 "nbformat": 4,
 "nbformat_minor": 5
}
